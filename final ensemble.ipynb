{
 "cells": [
  {
   "cell_type": "code",
   "execution_count": 1,
   "metadata": {
    "collapsed": true
   },
   "outputs": [],
   "source": [
    "import pandas as pd\n",
    "import numpy as np\n",
    "import matplotlib.pyplot as plt\n",
    "\n",
    "%matplotlib inline\n",
    "plt.rcParams['figure.figsize'] = (10.0, 8.0) # set default size of plots\n",
    "plt.rcParams['image.interpolation'] = 'nearest'\n",
    "plt.rcParams['image.cmap'] = 'gray'\n",
    "\n",
    "%load_ext autoreload\n",
    "%autoreload 2"
   ]
  },
  {
   "cell_type": "code",
   "execution_count": 2,
   "metadata": {
    "collapsed": true
   },
   "outputs": [],
   "source": [
    "BASE_dir = 'data/processed/'\n",
    "\n",
    "train = pd.read_json(BASE_dir + 'train.json')\n",
    "test = pd.read_json(BASE_dir + 'test.json')"
   ]
  },
  {
   "cell_type": "code",
   "execution_count": 3,
   "metadata": {
    "collapsed": true
   },
   "outputs": [],
   "source": [
    "temp13= pd.read_csv('resnet34_retrain_all.csv')\n",
    "#temp12.corr()\n",
    "temp13['is_iceberg_max'] = temp13.iloc[:, :23].max(axis=1)\n",
    "temp13['is_iceberg_min'] = temp13.iloc[:, :23].min(axis=1)\n",
    "temp13['is_iceberg_median'] = temp13.iloc[:, :23].median(axis=1)\n",
    "temp13['is_iceberg_mean'] = temp13.iloc[:, :23].mean(axis=1)\n",
    "# set up cutoff threshold for lower and upper bounds, easy to twist \n",
    "cutoff_lo = 0.95\n",
    "cutoff_hi = 0.05\n",
    "\n",
    "#temp11['is_iceberg_base'] = temp11['is_iceberg3']\n",
    "# temp13['is_iceberg'] = np.where(np.all(temp13.iloc[:,0:23] > cutoff_lo, axis=1), \n",
    "#                                     temp13['is_iceberg_max'], \n",
    "#                                     np.where(np.all(temp13.iloc[:,0:23] < cutoff_hi, axis=1),\n",
    "#                                              temp13['is_iceberg_min'], \n",
    "#                                              temp13['is_iceberg_median']))\n",
    "\n",
    "temp13['is_iceberg'] = temp13['is_iceberg_mean']"
   ]
  },
  {
   "cell_type": "code",
   "execution_count": 4,
   "metadata": {
    "collapsed": true
   },
   "outputs": [],
   "source": [
    "# temp11 = pd.read_csv('50_plain_fcn.csv')\n",
    "# temp11['is_iceberg_max'] = temp11.iloc[:, :50].max(axis=1)\n",
    "# temp11['is_iceberg_min'] = temp11.iloc[:, :50].min(axis=1)\n",
    "# temp11['is_iceberg_median'] = temp11.iloc[:, :50].median(axis=1)\n",
    "# temp11['is_iceberg_mean'] = temp11.iloc[:, :50].mean(axis=1)\n",
    "# # set up cutoff threshold for lower and upper bounds, easy to twist \n",
    "# cutoff_lo = 0.95\n",
    "# cutoff_hi = 0.05\n",
    "\n",
    "# #temp11['is_iceberg_base'] = temp11['is_iceberg3']\n",
    "# # temp11['is_iceberg'] = np.where(np.all(temp11.iloc[:,0:50] > cutoff_lo, axis=1), \n",
    "# #                                     temp11['is_iceberg_max'], \n",
    "# #                                     np.where(np.all(temp11.iloc[:,0:50] < cutoff_hi, axis=1),\n",
    "# #                                              temp11['is_iceberg_min'], \n",
    "# #                                              temp11['is_iceberg_median']))\n",
    "\n",
    "# temp11 = pd.read_csv('submissionfcn.csv')\n",
    "# temp11['is_iceberg'] = temp11['is_iceberg']\n",
    "\n",
    "temp11 = pd.read_csv('others/fcn_20_models.csv')\n",
    "temp11['is_iceberg'] = temp11.iloc[:,:20].mean(axis=1)"
   ]
  },
  {
   "cell_type": "code",
   "execution_count": 5,
   "metadata": {
    "collapsed": true
   },
   "outputs": [],
   "source": [
    "# temp12= pd.read_csv('plain_cnn_LB0_1636.csv')\n",
    "# num=5\n",
    "# temp12['is_iceberg_max'] = temp12.iloc[:, :num].max(axis=1)\n",
    "# temp12['is_iceberg_min'] = temp12.iloc[:, :num].min(axis=1)\n",
    "# temp12['is_iceberg_median'] = temp12.iloc[:, :num].median(axis=1)\n",
    "# temp12['is_iceberg_mean'] = temp12.iloc[:, :num].mean(axis=1)\n",
    "# # set up cutoff threshold for lower and upper bounds, easy to twist \n",
    "# cutoff_lo = 0.95\n",
    "# cutoff_hi = 0.05\n",
    "\n",
    "#temp11['is_iceberg_base'] = temp11['is_iceberg3']\n",
    "# temp12['is_iceberg'] = np.where(np.all(temp12.iloc[:,0:36] > cutoff_lo, axis=1), \n",
    "#                                     temp12['is_iceberg_max'], \n",
    "#                                     np.where(np.all(temp12.iloc[:,0:36] < cutoff_hi, axis=1),\n",
    "#                                              temp12['is_iceberg_min'], \n",
    "#                                              temp12['is_iceberg_median']))\n",
    "\n",
    "# temp12['is_iceberg']=temp12['is_iceberg_mean'] \n",
    "\n",
    "\n",
    "temp12 = pd.read_csv('others/plain_cnn_30_models.csv')\n",
    "temp12['is_iceberg'] = temp12.iloc[:,:30].mean(axis=1)"
   ]
  },
  {
   "cell_type": "code",
   "execution_count": 6,
   "metadata": {
    "collapsed": true
   },
   "outputs": [],
   "source": [
    "temp14= pd.read_csv('6_retrain_inception.csv')\n",
    "temp14['is_iceberg_max'] = temp12.iloc[:, :6].max(axis=1)\n",
    "temp14['is_iceberg_min'] = temp12.iloc[:, :6].min(axis=1)\n",
    "temp14['is_iceberg_median'] = temp12.iloc[:, :6].median(axis=1)\n",
    "temp14['is_iceberg_mean'] = temp12.iloc[:, :6].mean(axis=1)\n",
    "# set up cutoff threshold for lower and upper bounds, easy to twist \n",
    "# cutoff_lo = 0.95\n",
    "# cutoff_hi = 0.05\n",
    "\n",
    "# #temp11['is_iceberg_base'] = temp11['is_iceberg3']\n",
    "# temp12['is_iceberg'] = np.where(np.all(temp12.iloc[:,0:36] > cutoff_lo, axis=1), \n",
    "#                                     temp12['is_iceberg_max'], \n",
    "#                                     np.where(np.all(temp12.iloc[:,0:36] < cutoff_hi, axis=1),\n",
    "#                                              temp12['is_iceberg_min'], \n",
    "#                                              temp12['is_iceberg_median']))\n",
    "temp14['is_iceberg']=temp14['is_iceberg_mean'] \n",
    "\n",
    "\n"
   ]
  },
  {
   "cell_type": "code",
   "execution_count": 7,
   "metadata": {
    "collapsed": true
   },
   "outputs": [],
   "source": [
    "temp15 = pd.read_csv('submissionlkm.csv')"
   ]
  },
  {
   "cell_type": "code",
   "execution_count": 8,
   "metadata": {
    "collapsed": true
   },
   "outputs": [],
   "source": [
    "\n",
    "temp111= pd.read_csv('others/sub_200_ens_densenet.csv')\n",
    "temp112= pd.read_csv('others/sub_blend009.csv')\n",
    "temp112_2= pd.read_csv('others/my_gbm_463mean.csv')\n",
    "\n",
    "temp113= pd.read_csv('others/sub_fcn.csv')\n",
    "\n",
    "temp114= pd.read_csv('others/senet_ice.csv')\n",
    "temp115= pd.read_csv('others/sub_TF_keras.csv')\n",
    "temp116= pd.read_csv('others/sub_keras_beginner.csv')\n",
    "\n",
    "#! ls others"
   ]
  },
  {
   "cell_type": "code",
   "execution_count": 9,
   "metadata": {
    "collapsed": false
   },
   "outputs": [
    {
     "data": {
      "text/html": [
       "<div>\n",
       "<style scoped>\n",
       "    .dataframe tbody tr th:only-of-type {\n",
       "        vertical-align: middle;\n",
       "    }\n",
       "\n",
       "    .dataframe tbody tr th {\n",
       "        vertical-align: top;\n",
       "    }\n",
       "\n",
       "    .dataframe thead th {\n",
       "        text-align: right;\n",
       "    }\n",
       "</style>\n",
       "<table border=\"1\" class=\"dataframe\">\n",
       "  <thead>\n",
       "    <tr style=\"text-align: right;\">\n",
       "      <th></th>\n",
       "      <th>is_iceberg</th>\n",
       "    </tr>\n",
       "  </thead>\n",
       "  <tbody>\n",
       "    <tr>\n",
       "      <th>is_iceberg</th>\n",
       "      <td>1.0</td>\n",
       "    </tr>\n",
       "  </tbody>\n",
       "</table>\n",
       "</div>"
      ],
      "text/plain": [
       "            is_iceberg\n",
       "is_iceberg         1.0"
      ]
     },
     "execution_count": 9,
     "metadata": {},
     "output_type": "execute_result"
    }
   ],
   "source": [
    "temp17.corr()"
   ]
  },
  {
   "cell_type": "code",
   "execution_count": 9,
   "metadata": {
    "collapsed": false
   },
   "outputs": [
    {
     "data": {
      "text/html": [
       "<div>\n",
       "<style>\n",
       "    .dataframe thead tr:only-child th {\n",
       "        text-align: right;\n",
       "    }\n",
       "\n",
       "    .dataframe thead th {\n",
       "        text-align: left;\n",
       "    }\n",
       "\n",
       "    .dataframe tbody tr th {\n",
       "        vertical-align: top;\n",
       "    }\n",
       "</style>\n",
       "<table border=\"1\" class=\"dataframe\">\n",
       "  <thead>\n",
       "    <tr style=\"text-align: right;\">\n",
       "      <th></th>\n",
       "      <th>fcn</th>\n",
       "      <th>cnn</th>\n",
       "      <th>resnet34</th>\n",
       "      <th>inception</th>\n",
       "      <th>basic_vgg</th>\n",
       "      <th>200-dense</th>\n",
       "      <th>my_gbm</th>\n",
       "      <th>senet</th>\n",
       "    </tr>\n",
       "  </thead>\n",
       "  <tbody>\n",
       "    <tr>\n",
       "      <th>fcn</th>\n",
       "      <td>1.000000</td>\n",
       "      <td>0.802372</td>\n",
       "      <td>0.852245</td>\n",
       "      <td>0.810935</td>\n",
       "      <td>0.931379</td>\n",
       "      <td>0.938665</td>\n",
       "      <td>0.433951</td>\n",
       "      <td>0.933137</td>\n",
       "    </tr>\n",
       "    <tr>\n",
       "      <th>cnn</th>\n",
       "      <td>0.802372</td>\n",
       "      <td>1.000000</td>\n",
       "      <td>0.778280</td>\n",
       "      <td>0.995899</td>\n",
       "      <td>0.716256</td>\n",
       "      <td>0.725998</td>\n",
       "      <td>0.625897</td>\n",
       "      <td>0.837274</td>\n",
       "    </tr>\n",
       "    <tr>\n",
       "      <th>resnet34</th>\n",
       "      <td>0.852245</td>\n",
       "      <td>0.778280</td>\n",
       "      <td>1.000000</td>\n",
       "      <td>0.782129</td>\n",
       "      <td>0.840827</td>\n",
       "      <td>0.844862</td>\n",
       "      <td>0.612892</td>\n",
       "      <td>0.883297</td>\n",
       "    </tr>\n",
       "    <tr>\n",
       "      <th>inception</th>\n",
       "      <td>0.810935</td>\n",
       "      <td>0.995899</td>\n",
       "      <td>0.782129</td>\n",
       "      <td>1.000000</td>\n",
       "      <td>0.725131</td>\n",
       "      <td>0.733835</td>\n",
       "      <td>0.614862</td>\n",
       "      <td>0.839504</td>\n",
       "    </tr>\n",
       "    <tr>\n",
       "      <th>basic_vgg</th>\n",
       "      <td>0.931379</td>\n",
       "      <td>0.716256</td>\n",
       "      <td>0.840827</td>\n",
       "      <td>0.725131</td>\n",
       "      <td>1.000000</td>\n",
       "      <td>0.956944</td>\n",
       "      <td>0.393050</td>\n",
       "      <td>0.932545</td>\n",
       "    </tr>\n",
       "    <tr>\n",
       "      <th>200-dense</th>\n",
       "      <td>0.938665</td>\n",
       "      <td>0.725998</td>\n",
       "      <td>0.844862</td>\n",
       "      <td>0.733835</td>\n",
       "      <td>0.956944</td>\n",
       "      <td>1.000000</td>\n",
       "      <td>0.411951</td>\n",
       "      <td>0.951330</td>\n",
       "    </tr>\n",
       "    <tr>\n",
       "      <th>my_gbm</th>\n",
       "      <td>0.433951</td>\n",
       "      <td>0.625897</td>\n",
       "      <td>0.612892</td>\n",
       "      <td>0.614862</td>\n",
       "      <td>0.393050</td>\n",
       "      <td>0.411951</td>\n",
       "      <td>1.000000</td>\n",
       "      <td>0.548838</td>\n",
       "    </tr>\n",
       "    <tr>\n",
       "      <th>senet</th>\n",
       "      <td>0.933137</td>\n",
       "      <td>0.837274</td>\n",
       "      <td>0.883297</td>\n",
       "      <td>0.839504</td>\n",
       "      <td>0.932545</td>\n",
       "      <td>0.951330</td>\n",
       "      <td>0.548838</td>\n",
       "      <td>1.000000</td>\n",
       "    </tr>\n",
       "  </tbody>\n",
       "</table>\n",
       "</div>"
      ],
      "text/plain": [
       "                fcn       cnn  resnet34  inception  basic_vgg  200-dense  \\\n",
       "fcn        1.000000  0.802372  0.852245   0.810935   0.931379   0.938665   \n",
       "cnn        0.802372  1.000000  0.778280   0.995899   0.716256   0.725998   \n",
       "resnet34   0.852245  0.778280  1.000000   0.782129   0.840827   0.844862   \n",
       "inception  0.810935  0.995899  0.782129   1.000000   0.725131   0.733835   \n",
       "basic_vgg  0.931379  0.716256  0.840827   0.725131   1.000000   0.956944   \n",
       "200-dense  0.938665  0.725998  0.844862   0.733835   0.956944   1.000000   \n",
       "my_gbm     0.433951  0.625897  0.612892   0.614862   0.393050   0.411951   \n",
       "senet      0.933137  0.837274  0.883297   0.839504   0.932545   0.951330   \n",
       "\n",
       "             my_gbm     senet  \n",
       "fcn        0.433951  0.933137  \n",
       "cnn        0.625897  0.837274  \n",
       "resnet34   0.612892  0.883297  \n",
       "inception  0.614862  0.839504  \n",
       "basic_vgg  0.393050  0.932545  \n",
       "200-dense  0.411951  0.951330  \n",
       "my_gbm     1.000000  0.548838  \n",
       "senet      0.548838  1.000000  "
      ]
     },
     "execution_count": 9,
     "metadata": {},
     "output_type": "execute_result"
    }
   ],
   "source": [
    "for_test = pd.DataFrame()\n",
    "for_test['fcn']=temp11['is_iceberg']\n",
    "for_test['cnn']=temp12['is_iceberg']\n",
    "for_test['resnet34']=temp13['is_iceberg']\n",
    "for_test['inception'] = temp14['is_iceberg']\n",
    "for_test['basic_vgg'] = temp15['is_iceberg']\n",
    "\n",
    "for_test['200-dense']=temp111['is_iceberg']\n",
    "for_test['my_gbm']=temp112_2['is_iceberg']\n",
    "\n",
    "for_test['senet']=temp114['is_iceberg']\n",
    "\n",
    "\n",
    "# for_test['gbm']=temp112['is_iceberg']\n",
    "# for_test['ori_fcn']=temp113['is_iceberg']\n",
    "# for_test['tf-keras'] =temp115['is_iceberg']\n",
    "# for_test['keras'] =temp116['is_iceberg']\n",
    "\n",
    "\n",
    "for_test.corr()"
   ]
  },
  {
   "cell_type": "code",
   "execution_count": 27,
   "metadata": {
    "collapsed": true
   },
   "outputs": [],
   "source": [
    "temp17 = pd.read_csv('r2_11_plain_cnn.csv')\n",
    "# temp17.columns= range(11)\n",
    "# final = temp17.join(temp12)\n",
    "temp12['base_model'] = temp17.mean(axis=1)\n",
    "final = temp12"
   ]
  },
  {
   "cell_type": "code",
   "execution_count": null,
   "metadata": {
    "collapsed": true
   },
   "outputs": [],
   "source": [
    "final.corr()"
   ]
  },
  {
   "cell_type": "code",
   "execution_count": 12,
   "metadata": {
    "collapsed": true
   },
   "outputs": [],
   "source": [
    "temp11 = for_test\n",
    "num=8\n",
    "\n",
    "\n",
    "temp11['is_iceberg_max'] = temp11.iloc[:, :num].max(axis=1)\n",
    "temp11['is_iceberg_min'] = temp11.iloc[:, :num].min(axis=1)\n",
    "temp11['is_iceberg_median'] = temp11.iloc[:, :num].median(axis=1)\n",
    "temp11['is_iceberg_mean'] = temp11.iloc[:, :num].mean(axis=1)\n",
    "temp11['is_iceberg_weighted'] = (for_test['fcn']*2+\n",
    "                                for_test['cnn']*3+\n",
    "                                for_test['resnet34']*2+\n",
    "                                for_test['inception']*2+\n",
    "                                for_test['basic_vgg']*1+\n",
    "                                for_test['200-dense']*3+\n",
    "                                for_test['my_gbm']*1+\n",
    "                                for_test['senet']*3)/17\n",
    "\n",
    "# set up cutoff threshold for lower and upper bounds, easy to twist \n",
    "cutoff_lo = 0.9\n",
    "cutoff_hi = 0.1\n",
    "\n",
    "# temp11['is_iceberg_base'] = temp11['senet']\n",
    "temp11['is_iceberg'] = np.where(np.all(temp11.iloc[:,0:num] > cutoff_lo, axis=1), \n",
    "                                    temp11['is_iceberg_max'], \n",
    "                                    np.where(np.all(temp11.iloc[:,0:num] < cutoff_hi, axis=1),\n",
    "                                             temp11['is_iceberg_min'], \n",
    "                                             temp11['is_iceberg_weighted']))\n",
    "\n",
    "# temp11['is_iceberg'] = np.where(np.all(temp11.iloc[:,0:num] > cutoff_lo, axis=1), \n",
    "#                                     1-1e-10, \n",
    "#                                     np.where(np.all(temp11.iloc[:,0:num] < cutoff_hi, axis=1),\n",
    "#                                              1e-10, \n",
    "#                                              temp11['is_iceberg_median']))\n",
    "\n",
    "\n",
    "\n",
    "# temp11 = temp12\n",
    "# temp11['is_iceberg_max'] = temp11.iloc[:, :36].max(axis=1)\n",
    "# temp11['is_iceberg_min'] = temp11.iloc[:, :36].min(axis=1)\n",
    "# temp11['is_iceberg_median'] = temp11.iloc[:, :36].median(axis=1)\n",
    "# temp11['is_iceberg_mean'] = temp11.iloc[:, :36].mean(axis=1)\n",
    "# # set up cutoff threshold for lower and upper bounds, easy to twist \n",
    "# cutoff_lo = 0.95\n",
    "# cutoff_hi = 0.05\n",
    "\n",
    "# #temp11['is_iceberg_base'] = temp11['is_iceberg3']\n",
    "#  temp11['is_iceberg'] = np.where(np.all(temp11.iloc[:,0:36] > cutoff_lo, axis=1), \n",
    "#                                     temp11['is_iceberg_max'], \n",
    "#                                     np.where(np.all(temp11.iloc[:,0:36] < cutoff_hi, axis=1),\n",
    "#                                              temp11['is_iceberg_min'], \n",
    "#                                              temp11['is_iceberg_median']))"
   ]
  },
  {
   "cell_type": "code",
   "execution_count": 17,
   "metadata": {
    "collapsed": false
   },
   "outputs": [
    {
     "name": "stdout",
     "output_type": "stream",
     "text": [
      "1296\n",
      "2032\n",
      "3       0.996476\n",
      "7       0.999174\n",
      "19      0.990379\n",
      "29      0.998855\n",
      "34      0.988794\n",
      "35      0.996533\n",
      "39      0.985417\n",
      "46      0.999622\n",
      "48      0.999223\n",
      "52      0.995576\n",
      "55      0.993455\n",
      "62      0.999851\n",
      "73      0.994863\n",
      "77      0.998834\n",
      "81      0.997735\n",
      "93      0.998298\n",
      "103     0.997120\n",
      "111     0.999834\n",
      "120     0.998819\n",
      "123     0.999102\n",
      "128     0.993699\n",
      "131     0.999935\n",
      "138     0.999285\n",
      "147     0.989625\n",
      "148     0.987336\n",
      "161     0.995721\n",
      "162     0.997300\n",
      "168     0.999002\n",
      "174     0.998079\n",
      "186     0.999056\n",
      "          ...   \n",
      "8254    0.997487\n",
      "8255    0.995607\n",
      "8259    0.999812\n",
      "8270    0.997546\n",
      "8281    0.998394\n",
      "8282    0.999130\n",
      "8289    0.991322\n",
      "8294    0.995801\n",
      "8300    0.993162\n",
      "8318    0.996168\n",
      "8328    0.998755\n",
      "8329    0.998465\n",
      "8330    0.989143\n",
      "8339    0.998889\n",
      "8340    0.999646\n",
      "8343    0.997069\n",
      "8347    0.999703\n",
      "8351    0.999108\n",
      "8354    0.998804\n",
      "8362    0.996223\n",
      "8364    0.983108\n",
      "8365    0.999064\n",
      "8366    0.977223\n",
      "8371    0.998460\n",
      "8374    0.996284\n",
      "8387    0.998512\n",
      "8409    0.999857\n",
      "8412    0.996691\n",
      "8418    0.968142\n",
      "8422    0.999386\n",
      "Name: is_iceberg_max, Length: 1296, dtype: float64\n"
     ]
    },
    {
     "data": {
      "image/png": "[encoded data removed]",
      "text/plain": [
       "<matplotlib.figure.Figure at 0x17c5646a0>"
      ]
     },
     "metadata": {},
     "output_type": "display_data"
    },
    {
     "data": {
      "image/png": "[encoded data removed]",
      "text/plain": [
       "<matplotlib.figure.Figure at 0x17bbc2160>"
      ]
     },
     "metadata": {},
     "output_type": "display_data"
    },
    {
     "data": {
      "text/plain": [
       "180"
      ]
     },
     "execution_count": 17,
     "metadata": {},
     "output_type": "execute_result"
    }
   ],
   "source": [
    "cutoff_lo = 0.7\n",
    "cutoff_hi = 0.3\n",
    "\n",
    "print(np.sum(np.all(temp11.iloc[:,0:num] > cutoff_lo, axis=1)))\n",
    "print(np.sum(np.all(temp11.iloc[:,0:num] < cutoff_hi, axis=1)))\n",
    "print(temp11['is_iceberg_max'][np.all(temp11.iloc[:,0:num] > cutoff_lo, axis=1)])\n",
    "#plt.hist(np.histogram(temp11['is_iceberg_max'][np.all(temp11.iloc[:,0:num] > cutoff_lo, axis=1)]))\n",
    "plt.hist(temp11['is_iceberg_max'][np.all(temp11.iloc[:,0:num] > cutoff_lo, axis=1)])\n",
    "plt.show()\n",
    "\n",
    "plt.hist(temp11['is_iceberg_min'][np.all(temp11.iloc[:,0:num] < cutoff_hi, axis=1)])\n",
    "plt.show()\n",
    "\n",
    "np.sum(temp11['is_iceberg_min'][np.all(temp11.iloc[:,0:num] < cutoff_hi, axis=1)]>0.01)"
   ]
  },
  {
   "cell_type": "code",
   "execution_count": 68,
   "metadata": {
    "collapsed": false
   },
   "outputs": [
    {
     "data": {
      "image/png": "[encoded data removed]",
      "text/plain": [
       "<matplotlib.figure.Figure at 0x17db7c5c0>"
      ]
     },
     "metadata": {},
     "output_type": "display_data"
    },
    {
     "data": {
      "image/png": "[encoded data removed]",
      "text/plain": [
       "<matplotlib.figure.Figure at 0x17dd6bf28>"
      ]
     },
     "metadata": {},
     "output_type": "display_data"
    }
   ],
   "source": [
    "#check what happens between 0.8 and 0.9\n",
    "a =temp11['is_iceberg_median'][np.all(temp11.iloc[:,0:num] > 0.9, axis=1).astype(np.int)+(np.all(temp11.iloc[:,0:num] > 0.8, axis=1)).astype(np.int)==1]\n",
    "plt.hist(a)\n",
    "plt.show()\n",
    "\n",
    "a =temp11['is_iceberg_max'][np.all(temp11.iloc[:,0:num] > 0.9, axis=1).astype(np.int)+(np.all(temp11.iloc[:,0:num] > 0.8, axis=1)).astype(np.int)==1]\n",
    "plt.axes(xlim=(0.82,1))\n",
    "plt.hist(a)\n",
    "plt.show()\n",
    "\n",
    "#np.sum((np.all(temp11.iloc[:,0:num] > 0.9, axis=1) +np.all(temp11.iloc[:,0:num] > 0.8, axis=1) ==1))\n"
   ]
  },
  {
   "cell_type": "code",
   "execution_count": 71,
   "metadata": {
    "collapsed": false
   },
   "outputs": [
    {
     "name": "stdout",
     "output_type": "stream",
     "text": [
      "1.97791260732\n",
      "1.47904292347\n"
     ]
    }
   ],
   "source": [
    "print(np.sum(1- temp11['is_iceberg_max'][np.all(temp11.iloc[:,0:num] > 0.9, axis=1).astype(np.int)+(np.all(temp11.iloc[:,0:num] > 0.8, axis=1)).astype(np.int)==1]))\n",
    "\n",
    "print(np.sum(temp11['is_iceberg_min'][np.all(temp11.iloc[:,0:num] < 0.2, axis=1).astype(np.int)+(np.all(temp11.iloc[:,0:num] < 0.1, axis=1)).astype(np.int)==1]))"
   ]
  },
  {
   "cell_type": "code",
   "execution_count": 13,
   "metadata": {
    "collapsed": true
   },
   "outputs": [],
   "source": [
    "sub=pd.DataFrame()\n",
    "sub['id'] = test['id']\n",
    "sub['is_iceberg'] =  temp11['is_iceberg']\n",
    "#\n",
    "sub.to_csv('submission454.csv',index=False)\n"
   ]
  },
  {
   "cell_type": "code",
   "execution_count": 19,
   "metadata": {
    "collapsed": false
   },
   "outputs": [
    {
     "data": {
      "text/plain": [
       "1814"
      ]
     },
     "execution_count": 19,
     "metadata": {},
     "output_type": "execute_result"
    }
   ],
   "source": [
    "#sub.corr()\n",
    "np.sum(np.sum(temp11.iloc[:,:8]<=0.2,axis=1)==8)\n",
    "#8 models below 0.1: 1232\n",
    "#8 models above 0.9: 852\n",
    "\n",
    "#8 models below 0.1: 1814\n",
    "#8 models above 0.9: 1042\n"
   ]
  }
 ],
 "metadata": {
  "kernelspec": {
   "display_name": "Python 3",
   "language": "python",
   "name": "python3"
  },
  "language_info": {
   "codemirror_mode": {
    "name": "ipython",
    "version": 3
   },
   "file_extension": ".py",
   "mimetype": "text/x-python",
   "name": "python",
   "nbconvert_exporter": "python",
   "pygments_lexer": "ipython3",
   "version": "3.5.0"
  },
  "widgets": {
   "state": {},
   "version": "1.1.2"
  }
 },
 "nbformat": 4,
 "nbformat_minor": 2
}
