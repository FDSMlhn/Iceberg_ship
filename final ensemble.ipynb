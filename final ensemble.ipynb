{
 "cells": [
  {
   "cell_type": "code",
   "execution_count": 1,
   "metadata": {},
   "outputs": [],
   "source": [
    "import pandas as pd\n",
    "import numpy as np\n",
    "import matplotlib.pyplot as plt\n",
    "\n",
    "%matplotlib inline\n",
    "plt.rcParams['figure.figsize'] = (10.0, 8.0) # set default size of plots\n",
    "plt.rcParams['image.interpolation'] = 'nearest'\n",
    "plt.rcParams['image.cmap'] = 'gray'\n",
    "\n",
    "%load_ext autoreload\n",
    "%autoreload 2"
   ]
  },
  {
   "cell_type": "code",
   "execution_count": 2,
   "metadata": {},
   "outputs": [],
   "source": [
    "BASE_dir = 'data/processed/'\n",
    "\n",
    "train = pd.read_json(BASE_dir + 'train.json')\n",
    "test = pd.read_json(BASE_dir + 'test.json')"
   ]
  },
  {
   "cell_type": "code",
   "execution_count": 3,
   "metadata": {},
   "outputs": [],
   "source": [
    "temp13= pd.read_csv('resnet34_retrain_all.csv')\n",
    "#temp12.corr()\n",
    "temp13['is_iceberg_max'] = temp13.iloc[:, :23].max(axis=1)\n",
    "temp13['is_iceberg_min'] = temp13.iloc[:, :23].min(axis=1)\n",
    "temp13['is_iceberg_median'] = temp13.iloc[:, :23].median(axis=1)\n",
    "temp13['is_iceberg_mean'] = temp13.iloc[:, :23].mean(axis=1)\n",
    "# set up cutoff threshold for lower and upper bounds, easy to twist \n",
    "cutoff_lo = 0.95\n",
    "cutoff_hi = 0.05\n",
    "\n",
    "#temp11['is_iceberg_base'] = temp11['is_iceberg3']\n",
    "# temp13['is_iceberg'] = np.where(np.all(temp13.iloc[:,0:23] > cutoff_lo, axis=1), \n",
    "#                                     temp13['is_iceberg_max'], \n",
    "#                                     np.where(np.all(temp13.iloc[:,0:23] < cutoff_hi, axis=1),\n",
    "#                                              temp13['is_iceberg_min'], \n",
    "#                                              temp13['is_iceberg_median']))\n",
    "\n",
    "temp13['is_iceberg'] = temp13['is_iceberg_mean']"
   ]
  },
  {
   "cell_type": "code",
   "execution_count": 4,
   "metadata": {},
   "outputs": [],
   "source": [
    "# temp11 = pd.read_csv('50_plain_fcn.csv')\n",
    "# temp11['is_iceberg_max'] = temp11.iloc[:, :50].max(axis=1)\n",
    "# temp11['is_iceberg_min'] = temp11.iloc[:, :50].min(axis=1)\n",
    "# temp11['is_iceberg_median'] = temp11.iloc[:, :50].median(axis=1)\n",
    "# temp11['is_iceberg_mean'] = temp11.iloc[:, :50].mean(axis=1)\n",
    "# # set up cutoff threshold for lower and upper bounds, easy to twist \n",
    "# cutoff_lo = 0.95\n",
    "# cutoff_hi = 0.05\n",
    "\n",
    "# #temp11['is_iceberg_base'] = temp11['is_iceberg3']\n",
    "# # temp11['is_iceberg'] = np.where(np.all(temp11.iloc[:,0:50] > cutoff_lo, axis=1), \n",
    "# #                                     temp11['is_iceberg_max'], \n",
    "# #                                     np.where(np.all(temp11.iloc[:,0:50] < cutoff_hi, axis=1),\n",
    "# #                                              temp11['is_iceberg_min'], \n",
    "# #                                              temp11['is_iceberg_median']))\n",
    "\n",
    "temp11 = pd.read_csv('submissionfcn.csv')\n",
    "temp11['is_iceberg'] = temp11['is_iceberg']"
   ]
  },
  {
   "cell_type": "code",
   "execution_count": 5,
   "metadata": {},
   "outputs": [],
   "source": [
    "temp12= pd.read_csv('plain_cnn_LB0_1636.csv')\n",
    "num=5\n",
    "temp12['is_iceberg_max'] = temp12.iloc[:, :num].max(axis=1)\n",
    "temp12['is_iceberg_min'] = temp12.iloc[:, :num].min(axis=1)\n",
    "temp12['is_iceberg_median'] = temp12.iloc[:, :num].median(axis=1)\n",
    "temp12['is_iceberg_mean'] = temp12.iloc[:, :num].mean(axis=1)\n",
    "# set up cutoff threshold for lower and upper bounds, easy to twist \n",
    "cutoff_lo = 0.95\n",
    "cutoff_hi = 0.05\n",
    "\n",
    "#temp11['is_iceberg_base'] = temp11['is_iceberg3']\n",
    "# temp12['is_iceberg'] = np.where(np.all(temp12.iloc[:,0:36] > cutoff_lo, axis=1), \n",
    "#                                     temp12['is_iceberg_max'], \n",
    "#                                     np.where(np.all(temp12.iloc[:,0:36] < cutoff_hi, axis=1),\n",
    "#                                              temp12['is_iceberg_min'], \n",
    "#                                              temp12['is_iceberg_median']))\n",
    "\n",
    "temp12['is_iceberg']=temp12['is_iceberg_mean'] "
   ]
  },
  {
   "cell_type": "code",
   "execution_count": 6,
   "metadata": {},
   "outputs": [],
   "source": [
    "temp14= pd.read_csv('6_retrain_inception.csv')\n",
    "temp14['is_iceberg_max'] = temp12.iloc[:, :6].max(axis=1)\n",
    "temp14['is_iceberg_min'] = temp12.iloc[:, :6].min(axis=1)\n",
    "temp14['is_iceberg_median'] = temp12.iloc[:, :6].median(axis=1)\n",
    "temp14['is_iceberg_mean'] = temp12.iloc[:, :6].mean(axis=1)\n",
    "# set up cutoff threshold for lower and upper bounds, easy to twist \n",
    "# cutoff_lo = 0.95\n",
    "# cutoff_hi = 0.05\n",
    "\n",
    "# #temp11['is_iceberg_base'] = temp11['is_iceberg3']\n",
    "# temp12['is_iceberg'] = np.where(np.all(temp12.iloc[:,0:36] > cutoff_lo, axis=1), \n",
    "#                                     temp12['is_iceberg_max'], \n",
    "#                                     np.where(np.all(temp12.iloc[:,0:36] < cutoff_hi, axis=1),\n",
    "#                                              temp12['is_iceberg_min'], \n",
    "#                                              temp12['is_iceberg_median']))\n",
    "temp14['is_iceberg']=temp14['is_iceberg_mean'] \n",
    "\n",
    "\n"
   ]
  },
  {
   "cell_type": "code",
   "execution_count": 7,
   "metadata": {},
   "outputs": [],
   "source": [
    "\n",
    "temp111= pd.read_csv('others/sub_200_ens_densenet.csv')\n",
    "temp112= pd.read_csv('others/sub_blend009.csv')\n",
    "temp112_2= pd.read_csv('others/my_gbm_463mean.csv')\n",
    "\n",
    "temp113= pd.read_csv('others/sub_fcn.csv')\n",
    "\n",
    "temp114= pd.read_csv('others/senet_ice.csv')\n",
    "temp115= pd.read_csv('others/sub_TF_keras.csv')\n",
    "temp116= pd.read_csv('others/sub_keras_beginner.csv')\n",
    "\n",
    "#! ls others"
   ]
  },
  {
   "cell_type": "code",
   "execution_count": 9,
   "metadata": {},
   "outputs": [
    {
     "data": {
      "text/html": [
       "<div>\n",
       "<style scoped>\n",
       "    .dataframe tbody tr th:only-of-type {\n",
       "        vertical-align: middle;\n",
       "    }\n",
       "\n",
       "    .dataframe tbody tr th {\n",
       "        vertical-align: top;\n",
       "    }\n",
       "\n",
       "    .dataframe thead th {\n",
       "        text-align: right;\n",
       "    }\n",
       "</style>\n",
       "<table border=\"1\" class=\"dataframe\">\n",
       "  <thead>\n",
       "    <tr style=\"text-align: right;\">\n",
       "      <th></th>\n",
       "      <th>is_iceberg</th>\n",
       "    </tr>\n",
       "  </thead>\n",
       "  <tbody>\n",
       "    <tr>\n",
       "      <th>is_iceberg</th>\n",
       "      <td>1.0</td>\n",
       "    </tr>\n",
       "  </tbody>\n",
       "</table>\n",
       "</div>"
      ],
      "text/plain": [
       "            is_iceberg\n",
       "is_iceberg         1.0"
      ]
     },
     "execution_count": 9,
     "metadata": {},
     "output_type": "execute_result"
    }
   ],
   "source": [
    "temp17.corr()"
   ]
  },
  {
   "cell_type": "code",
   "execution_count": 8,
   "metadata": {},
   "outputs": [
    {
     "data": {
      "text/html": [
       "<div>\n",
       "<style scoped>\n",
       "    .dataframe tbody tr th:only-of-type {\n",
       "        vertical-align: middle;\n",
       "    }\n",
       "\n",
       "    .dataframe tbody tr th {\n",
       "        vertical-align: top;\n",
       "    }\n",
       "\n",
       "    .dataframe thead th {\n",
       "        text-align: right;\n",
       "    }\n",
       "</style>\n",
       "<table border=\"1\" class=\"dataframe\">\n",
       "  <thead>\n",
       "    <tr style=\"text-align: right;\">\n",
       "      <th></th>\n",
       "      <th>fcn</th>\n",
       "      <th>cnn</th>\n",
       "      <th>resnet34</th>\n",
       "      <th>inception</th>\n",
       "      <th>200-dense</th>\n",
       "      <th>my_gbm</th>\n",
       "      <th>senet</th>\n",
       "    </tr>\n",
       "  </thead>\n",
       "  <tbody>\n",
       "    <tr>\n",
       "      <th>fcn</th>\n",
       "      <td>1.000000</td>\n",
       "      <td>0.791362</td>\n",
       "      <td>0.851287</td>\n",
       "      <td>0.778656</td>\n",
       "      <td>0.939279</td>\n",
       "      <td>0.430973</td>\n",
       "      <td>0.932430</td>\n",
       "    </tr>\n",
       "    <tr>\n",
       "      <th>cnn</th>\n",
       "      <td>0.791362</td>\n",
       "      <td>1.000000</td>\n",
       "      <td>0.768250</td>\n",
       "      <td>0.998744</td>\n",
       "      <td>0.719841</td>\n",
       "      <td>0.610230</td>\n",
       "      <td>0.829205</td>\n",
       "    </tr>\n",
       "    <tr>\n",
       "      <th>resnet34</th>\n",
       "      <td>0.851287</td>\n",
       "      <td>0.768250</td>\n",
       "      <td>1.000000</td>\n",
       "      <td>0.760871</td>\n",
       "      <td>0.844862</td>\n",
       "      <td>0.612892</td>\n",
       "      <td>0.883297</td>\n",
       "    </tr>\n",
       "    <tr>\n",
       "      <th>inception</th>\n",
       "      <td>0.778656</td>\n",
       "      <td>0.998744</td>\n",
       "      <td>0.760871</td>\n",
       "      <td>1.000000</td>\n",
       "      <td>0.706800</td>\n",
       "      <td>0.617580</td>\n",
       "      <td>0.819906</td>\n",
       "    </tr>\n",
       "    <tr>\n",
       "      <th>200-dense</th>\n",
       "      <td>0.939279</td>\n",
       "      <td>0.719841</td>\n",
       "      <td>0.844862</td>\n",
       "      <td>0.706800</td>\n",
       "      <td>1.000000</td>\n",
       "      <td>0.411951</td>\n",
       "      <td>0.951330</td>\n",
       "    </tr>\n",
       "    <tr>\n",
       "      <th>my_gbm</th>\n",
       "      <td>0.430973</td>\n",
       "      <td>0.610230</td>\n",
       "      <td>0.612892</td>\n",
       "      <td>0.617580</td>\n",
       "      <td>0.411951</td>\n",
       "      <td>1.000000</td>\n",
       "      <td>0.548838</td>\n",
       "    </tr>\n",
       "    <tr>\n",
       "      <th>senet</th>\n",
       "      <td>0.932430</td>\n",
       "      <td>0.829205</td>\n",
       "      <td>0.883297</td>\n",
       "      <td>0.819906</td>\n",
       "      <td>0.951330</td>\n",
       "      <td>0.548838</td>\n",
       "      <td>1.000000</td>\n",
       "    </tr>\n",
       "  </tbody>\n",
       "</table>\n",
       "</div>"
      ],
      "text/plain": [
       "                fcn       cnn  resnet34  inception  200-dense    my_gbm  \\\n",
       "fcn        1.000000  0.791362  0.851287   0.778656   0.939279  0.430973   \n",
       "cnn        0.791362  1.000000  0.768250   0.998744   0.719841  0.610230   \n",
       "resnet34   0.851287  0.768250  1.000000   0.760871   0.844862  0.612892   \n",
       "inception  0.778656  0.998744  0.760871   1.000000   0.706800  0.617580   \n",
       "200-dense  0.939279  0.719841  0.844862   0.706800   1.000000  0.411951   \n",
       "my_gbm     0.430973  0.610230  0.612892   0.617580   0.411951  1.000000   \n",
       "senet      0.932430  0.829205  0.883297   0.819906   0.951330  0.548838   \n",
       "\n",
       "              senet  \n",
       "fcn        0.932430  \n",
       "cnn        0.829205  \n",
       "resnet34   0.883297  \n",
       "inception  0.819906  \n",
       "200-dense  0.951330  \n",
       "my_gbm     0.548838  \n",
       "senet      1.000000  "
      ]
     },
     "execution_count": 8,
     "metadata": {},
     "output_type": "execute_result"
    }
   ],
   "source": [
    "for_test = pd.DataFrame()\n",
    "for_test['fcn']=temp11['is_iceberg']\n",
    "for_test['cnn']=temp12['is_iceberg']\n",
    "for_test['resnet34']=temp13['is_iceberg']\n",
    "for_test['inception'] = temp14['is_iceberg']\n",
    "\n",
    "for_test['200-dense']=temp111['is_iceberg']\n",
    "for_test['my_gbm']=temp112_2['is_iceberg']\n",
    "\n",
    "for_test['senet']=temp114['is_iceberg']\n",
    "\n",
    "\n",
    "# for_test['gbm']=temp112['is_iceberg']\n",
    "# for_test['ori_fcn']=temp113['is_iceberg']\n",
    "# for_test['tf-keras'] =temp115['is_iceberg']\n",
    "# for_test['keras'] =temp116['is_iceberg']\n",
    "\n",
    "\n",
    "for_test.corr()"
   ]
  },
  {
   "cell_type": "code",
   "execution_count": 27,
   "metadata": {
    "collapsed": true
   },
   "outputs": [],
   "source": [
    "temp17 = pd.read_csv('r2_11_plain_cnn.csv')\n",
    "# temp17.columns= range(11)\n",
    "# final = temp17.join(temp12)\n",
    "temp12['base_model'] = temp17.mean(axis=1)\n",
    "final = temp12"
   ]
  },
  {
   "cell_type": "code",
   "execution_count": null,
   "metadata": {
    "collapsed": true
   },
   "outputs": [],
   "source": [
    "final.corr()"
   ]
  },
  {
   "cell_type": "code",
   "execution_count": 9,
   "metadata": {},
   "outputs": [],
   "source": [
    "temp11 = for_test\n",
    "num=7\n",
    "\n",
    "\n",
    "temp11['is_iceberg_max'] = temp11.iloc[:, :num].max(axis=1)\n",
    "temp11['is_iceberg_min'] = temp11.iloc[:, :num].min(axis=1)\n",
    "temp11['is_iceberg_median'] = temp11.iloc[:, :num].median(axis=1)\n",
    "temp11['is_iceberg_mean'] = temp11.iloc[:, :num].mean(axis=1)\n",
    "# set up cutoff threshold for lower and upper bounds, easy to twist \n",
    "cutoff_lo = 0.9\n",
    "cutoff_hi = 0.1\n",
    "\n",
    "#temp11['is_iceberg_base'] = temp11['is_iceberg3']\n",
    "temp11['is_iceberg'] = np.where(np.all(temp11.iloc[:,0:num] > cutoff_lo, axis=1), \n",
    "                                    temp11['is_iceberg_max'], \n",
    "                                    np.where(np.all(temp11.iloc[:,0:num] < cutoff_hi, axis=1),\n",
    "                                             temp11['is_iceberg_min'], \n",
    "                                             temp11['is_iceberg_median']))\n",
    "\n",
    "# temp11['is_iceberg'] = np.where(np.all(temp11.iloc[:,0:num] > cutoff_lo, axis=1), \n",
    "#                                     1-1e-10, \n",
    "#                                     np.where(np.all(temp11.iloc[:,0:num] < cutoff_hi, axis=1),\n",
    "#                                              1e-10, \n",
    "#                                              temp11['is_iceberg_median']))\n",
    "\n",
    "\n",
    "\n",
    "# temp11 = temp12\n",
    "# temp11['is_iceberg_max'] = temp11.iloc[:, :36].max(axis=1)\n",
    "# temp11['is_iceberg_min'] = temp11.iloc[:, :36].min(axis=1)\n",
    "# temp11['is_iceberg_median'] = temp11.iloc[:, :36].median(axis=1)\n",
    "# temp11['is_iceberg_mean'] = temp11.iloc[:, :36].mean(axis=1)\n",
    "# # set up cutoff threshold for lower and upper bounds, easy to twist \n",
    "# cutoff_lo = 0.95\n",
    "# cutoff_hi = 0.05\n",
    "\n",
    "# #temp11['is_iceberg_base'] = temp11['is_iceberg3']\n",
    "#  temp11['is_iceberg'] = np.where(np.all(temp11.iloc[:,0:36] > cutoff_lo, axis=1), \n",
    "#                                     temp11['is_iceberg_max'], \n",
    "#                                     np.where(np.all(temp11.iloc[:,0:36] < cutoff_hi, axis=1),\n",
    "#                                              temp11['is_iceberg_min'], \n",
    "#                                              temp11['is_iceberg_median']))"
   ]
  },
  {
   "cell_type": "code",
   "execution_count": 47,
   "metadata": {},
   "outputs": [
    {
     "name": "stdout",
     "output_type": "stream",
     "text": [
      "1223\n",
      "1267\n",
      "3       0.999678\n",
      "7       0.999996\n",
      "19      0.995600\n",
      "29      0.999985\n",
      "34      0.988143\n",
      "35      0.996533\n",
      "39      0.999858\n",
      "46      0.999969\n",
      "48      0.999981\n",
      "52      0.999964\n",
      "55      0.993927\n",
      "62      0.999995\n",
      "73      0.999955\n",
      "77      0.999992\n",
      "81      0.999984\n",
      "93      0.999963\n",
      "103     0.999861\n",
      "111     1.000000\n",
      "120     0.999995\n",
      "123     0.999987\n",
      "128     0.999851\n",
      "131     1.000000\n",
      "138     0.999984\n",
      "147     0.989625\n",
      "148     0.991558\n",
      "161     0.999954\n",
      "162     0.999959\n",
      "168     0.999988\n",
      "174     0.999995\n",
      "186     0.999999\n",
      "          ...   \n",
      "8227    0.999799\n",
      "8229    0.999563\n",
      "8244    0.999997\n",
      "8254    0.999993\n",
      "8255    0.999844\n",
      "8259    0.999997\n",
      "8270    0.999983\n",
      "8281    0.999986\n",
      "8282    0.999997\n",
      "8289    0.999229\n",
      "8294    0.999869\n",
      "8300    0.999450\n",
      "8318    0.999854\n",
      "8328    0.999997\n",
      "8329    0.999979\n",
      "8330    0.999491\n",
      "8339    0.999960\n",
      "8340    0.999990\n",
      "8347    0.999973\n",
      "8351    0.999928\n",
      "8354    0.999911\n",
      "8362    0.999975\n",
      "8365    0.999987\n",
      "8371    0.999872\n",
      "8374    0.999972\n",
      "8387    0.999967\n",
      "8409    0.999999\n",
      "8412    0.999988\n",
      "8418    0.984678\n",
      "8422    0.999983\n",
      "Name: is_iceberg_max, Length: 1223, dtype: float64\n"
     ]
    },
    {
     "data": {
      "image/png": "[encoded data removed]",
      "text/plain": [
       "<matplotlib.figure.Figure at 0x17dfea128>"
      ]
     },
     "metadata": {},
     "output_type": "display_data"
    },
    {
     "data": {
      "image/png": "[encoded data removed]",
      "text/plain": [
       "<matplotlib.figure.Figure at 0x17df0bcc0>"
      ]
     },
     "metadata": {},
     "output_type": "display_data"
    },
    {
     "data": {
      "text/plain": [
       "0.15771332383155823"
      ]
     },
     "execution_count": 47,
     "metadata": {},
     "output_type": "execute_result"
    }
   ],
   "source": [
    "cutoff_lo = 0.8\n",
    "cutoff_hi = 0.1\n",
    "\n",
    "print(np.sum(np.all(temp11.iloc[:,0:num] > cutoff_lo, axis=1)))\n",
    "print(np.sum(np.all(temp11.iloc[:,0:num] < cutoff_hi, axis=1)))\n",
    "print(temp11['is_iceberg_max'][np.all(temp11.iloc[:,0:num] > cutoff_lo, axis=1)])\n",
    "#plt.hist(np.histogram(temp11['is_iceberg_max'][np.all(temp11.iloc[:,0:num] > cutoff_lo, axis=1)]))\n",
    "plt.hist(temp11['is_iceberg_max'][np.all(temp11.iloc[:,0:num] > cutoff_lo, axis=1)])\n",
    "plt.show()\n",
    "\n",
    "plt.hist(temp11['is_iceberg_min'][np.all(temp11.iloc[:,0:num] < cutoff_hi, axis=1)])\n",
    "plt.show()\n",
    "\n",
    "np.sum(temp11['is_iceberg_min'][np.all(temp11.iloc[:,0:num] < cutoff_hi, axis=1)]>0.01)"
   ]
  },
  {
   "cell_type": "code",
   "execution_count": 68,
   "metadata": {},
   "outputs": [
    {
     "data": {
      "image/png": "[encoded data removed]",
      "text/plain": [
       "<matplotlib.figure.Figure at 0x17db7c5c0>"
      ]
     },
     "metadata": {},
     "output_type": "display_data"
    },
    {
     "data": {
      "image/png": "[encoded data removed]",
      "text/plain": [
       "<matplotlib.figure.Figure at 0x17dd6bf28>"
      ]
     },
     "metadata": {},
     "output_type": "display_data"
    }
   ],
   "source": [
    "#check what happens between 0.8 and 0.9\n",
    "a =temp11['is_iceberg_median'][np.all(temp11.iloc[:,0:num] > 0.9, axis=1).astype(np.int)+(np.all(temp11.iloc[:,0:num] > 0.8, axis=1)).astype(np.int)==1]\n",
    "plt.hist(a)\n",
    "plt.show()\n",
    "\n",
    "a =temp11['is_iceberg_max'][np.all(temp11.iloc[:,0:num] > 0.9, axis=1).astype(np.int)+(np.all(temp11.iloc[:,0:num] > 0.8, axis=1)).astype(np.int)==1]\n",
    "plt.axes(xlim=(0.82,1))\n",
    "plt.hist(a)\n",
    "plt.show()\n",
    "\n",
    "#np.sum((np.all(temp11.iloc[:,0:num] > 0.9, axis=1) +np.all(temp11.iloc[:,0:num] > 0.8, axis=1) ==1))\n"
   ]
  },
  {
   "cell_type": "code",
   "execution_count": 71,
   "metadata": {},
   "outputs": [
    {
     "name": "stdout",
     "output_type": "stream",
     "text": [
      "1.97791260732\n",
      "1.47904292347\n"
     ]
    }
   ],
   "source": [
    "print(np.sum(1- temp11['is_iceberg_max'][np.all(temp11.iloc[:,0:num] > 0.9, axis=1).astype(np.int)+(np.all(temp11.iloc[:,0:num] > 0.8, axis=1)).astype(np.int)==1]))\n",
    "\n",
    "print(np.sum(temp11['is_iceberg_min'][np.all(temp11.iloc[:,0:num] < 0.2, axis=1).astype(np.int)+(np.all(temp11.iloc[:,0:num] < 0.1, axis=1)).astype(np.int)==1]))"
   ]
  },
  {
   "cell_type": "code",
   "execution_count": 10,
   "metadata": {},
   "outputs": [],
   "source": [
    "sub=pd.DataFrame()\n",
    "sub['id'] = test['id']\n",
    "sub['is_iceberg'] =  temp11['is_iceberg']\n",
    "#\n",
    "sub.to_csv('submission456.csv',index=False)\n"
   ]
  },
  {
   "cell_type": "code",
   "execution_count": 19,
   "metadata": {},
   "outputs": [
    {
     "data": {
      "text/plain": [
       "1814"
      ]
     },
     "execution_count": 19,
     "metadata": {},
     "output_type": "execute_result"
    }
   ],
   "source": [
    "#sub.corr()\n",
    "np.sum(np.sum(temp11.iloc[:,:8]<=0.2,axis=1)==8)\n",
    "#8 models below 0.1: 1232\n",
    "#8 models above 0.9: 852\n",
    "\n",
    "#8 models below 0.1: 1814\n",
    "#8 models above 0.9: 1042\n"
   ]
  }
 ],
 "metadata": {
  "kernelspec": {
   "display_name": "Python 3",
   "language": "python",
   "name": "python3"
  },
  "language_info": {
   "codemirror_mode": {
    "name": "ipython",
    "version": 3
   },
   "file_extension": ".py",
   "mimetype": "text/x-python",
   "name": "python",
   "nbconvert_exporter": "python",
   "pygments_lexer": "ipython3",
   "version": "3.5.2"
  },
  "widgets": {
   "state": {},
   "version": "1.1.2"
  }
 },
 "nbformat": 4,
 "nbformat_minor": 2
}
